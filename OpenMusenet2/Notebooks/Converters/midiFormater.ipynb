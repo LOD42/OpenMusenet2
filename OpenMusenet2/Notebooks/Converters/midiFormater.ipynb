{
  "cells": [
    {
      "cell_type": "markdown",
      "metadata": {
        "id": "dh6dxXUkVfr_"
      },
      "source": [
        "**This program will parse your data of midi files into data readable by the ai**\n",
        "\n",
        "Note that before running this, make sure you have a dataset of midi files, I would recomend atleast ~10,000 for decent results, but that is assumming they are all imported correctly, so probably more like 80,000.\n",
        "\n",
        "For finetuning, you need signifigantly less. Probably 100-1000?"
      ]
    },
    {
      "cell_type": "markdown",
      "metadata": {
        "id": "aQIi8aKuVdjn"
      },
      "source": [
        "Import"
      ]
    },
    {
      "cell_type": "code",
      "execution_count": null,
      "metadata": {
        "id": "b7cUICfDnRTT"
      },
      "outputs": [],
      "source": [
        "!pip install py_midicsv\n",
        "!pip install mido"
      ]
    },
    {
      "cell_type": "code",
      "execution_count": null,
      "metadata": {
        "id": "GwWh05-S0Zks"
      },
      "outputs": [],
      "source": [
        "!rm -rf /content/music/"
      ]
    },
    {
      "cell_type": "markdown",
      "metadata": {
        "id": "5OZMYmT0VNh0"
      },
      "source": [
        "**Upload your zip file of midi files (all in root of zip) and rename to music.zip also create a folder under the same name in the content folder**\n",
        "Make sure that any midi files arent in a folder of a folder, they wont be found"
      ]
    },
    {
      "cell_type": "code",
      "execution_count": null,
      "metadata": {
        "id": "wPa9rdFktIBz"
      },
      "outputs": [],
      "source": [
        "!unzip /content/music.zip -d /content/music/"
      ]
    },
    {
      "cell_type": "code",
      "execution_count": null,
      "metadata": {
        "colab": {
          "base_uri": "https://localhost:8080/"
        },
        "id": "ixoo-HsrmfNX",
        "outputId": "bc76bbcb-d0e8-4fa9-e589-7ecbae84cb47"
      },
      "outputs": [
        {
          "name": "stdout",
          "output_type": "stream",
          "text": [
            "total 8.0K\n",
            "drwx------ 5 root root 4.0K Sep  3 12:46 drive\n",
            "drwxr-xr-x 1 root root 4.0K Aug 31 13:25 sample_data\n"
          ]
        }
      ],
      "source": [
        "!ls -lh"
      ]
    },
    {
      "cell_type": "code",
      "execution_count": null,
      "metadata": {
        "id": "zZihkXXWxYoo"
      },
      "outputs": [],
      "source": [
        "#@title # **Convert the dataset and make sure to change midi dir if you changed it above** *Also* you may get errors but its probably ok\n",
        "# Fogor to scan MID\n",
        "import py_midicsv as pm\n",
        "import os\n",
        "import re\n",
        "\n",
        "\n",
        "midi_dir = \"/content/MIDI/\" #@param {type:\"string\"}\n",
        "midi_files = [f for f in os.listdir(midi_dir) if f.endswith(('.mid', '.MID'))]\n",
        "csv_string = []\n",
        "\n",
        "def get_note_event(start, note, instrument, length, velocity):\n",
        "  out_instrument = \"%\"\n",
        "  match instrument:\n",
        "    case 2:\n",
        "      out_instrument = \"%\"\n",
        "    case 3:\n",
        "      out_instrument = \"^\"\n",
        "    case 4:\n",
        "      out_instrument = \"&\"\n",
        "    case 5:\n",
        "      out_instrument = \"*\"\n",
        "    case 6:\n",
        "      out_instrument = \"(\"\n",
        "    case _:\n",
        "      out_instrument = \"(\"\n",
        "\n",
        "  if(int(instrument) in tracksThatAreDrums):\n",
        "    out_instrument = \")\"\n",
        "\n",
        "  dynamic = \"$\"\n",
        "  if(velocity > 108):\n",
        "    dynamic = \"$\"\n",
        "  elif velocity > 74:\n",
        "    dynamic = \"#\"\n",
        "  elif velocity > 40:\n",
        "    dynamic = \"@\"\n",
        "  else:\n",
        "    dynamic = \"!\"\n",
        "\n",
        "  return [start, dynamic, length, out_instrument, note]\n",
        "\n",
        "def parse_split_csv_item(item):\n",
        "  try:\n",
        "    item[2] = item[2].replace(' ', '')\n",
        "    item[0] = int(item[0])\n",
        "    item[1] = int(item[1])\n",
        "    item[3] = int(item[3])\n",
        "    item[4] = int(item[4])\n",
        "    item[5] = int(item[5])\n",
        "  except:\n",
        "    pass;\n",
        "  return item\n",
        "\n",
        "# Load the MIDI file and parse it into CSV format\n",
        "numNotesInCsv = 0\n",
        "num_filesSoFar = 0\n",
        "current_is_mid_1 = True\n",
        "for midi_file in midi_files:\n",
        "  csv_parsed = []\n",
        "  midiSubdivision = 1\n",
        "  try:\n",
        "    lastNoteStart = 0\n",
        "    csv_unparsed = pm.midi_to_csv(midi_dir + midi_file)\n",
        "    notesPlaying = []\n",
        "    tracksThatAreDrums = []\n",
        "\n",
        "    for csv_item in csv_unparsed:\n",
        "      split_csv_item = csv_item.split(',')\n",
        "      split_csv_item = parse_split_csv_item(split_csv_item);\n",
        "      match(split_csv_item[2]):\n",
        "        case \"Control_c\":\n",
        "          if(current_is_mid_1):\n",
        "            # if 9th channel, then it is drums according to midi\n",
        "            if(int(split_csv_item[3] )== 9):\n",
        "                if(not (int(split_csv_item[0]) in tracksThatAreDrums)):\n",
        "                    tracksThatAreDrums.append(int(split_csv_item[0]))\n",
        "        case \"Program_c\":\n",
        "          if(not current_is_mid_1):\n",
        "            if(int(split_csv_item[4] )== 127 or int(split_csv_item[4] )== 0):\n",
        "                if(not (int(split_csv_item[3]) in tracksThatAreDrums)):\n",
        "                    tracksThatAreDrums.append(int(split_csv_item[3]))\n",
        "\n",
        "        case \"Note_on_c\":\n",
        "          toAdd = True\n",
        "          for i in notesPlaying:\n",
        "            if(i[4] == split_csv_item[4]):\n",
        "              toAdd = False\n",
        "          if toAdd:\n",
        "            notesPlaying.append(split_csv_item)\n",
        "        case \"Note_off_c\":\n",
        "          # Find note that turning off\n",
        "          i = 0\n",
        "          while i < len(notesPlaying):\n",
        "            if(current_is_mid_1):\n",
        "              if(notesPlaying[i][4] == split_csv_item[4]):\n",
        "                temp = get_note_event(int(notesPlaying[i][1] * midiSubdivision), split_csv_item[4], split_csv_item[0], int((split_csv_item[1] * midiSubdivision) - (notesPlaying[i][1] * midiSubdivision)), notesPlaying[i][5])\n",
        "                csv_parsed.append(temp)\n",
        "                lastNoteStart = notesPlaying[i][1] * midiSubdivision\n",
        "                notesPlaying.pop(i)\n",
        "                i-=1\n",
        "              i+=1\n",
        "            else:\n",
        "              if(notesPlaying[i][4] == split_csv_item[4]):\n",
        "                temp = get_note_event(int(notesPlaying[i][1] * midiSubdivision), split_csv_item[4], split_csv_item[3], int((split_csv_item[1] * midiSubdivision) - (notesPlaying[i][1] * midiSubdivision)), notesPlaying[i][5])\n",
        "                csv_parsed.append(temp)\n",
        "                lastNoteStart = notesPlaying[i][1] * midiSubdivision\n",
        "                notesPlaying.pop(i)\n",
        "                i-=1\n",
        "              i+=1\n",
        "        case \"Header\":\n",
        "          if(int(split_csv_item[3]) == 0):\n",
        "            current_is_mid_1 = False\n",
        "          else:\n",
        "            current_is_mid_1 = True\n",
        "          midiSubdivision = 480 / float(split_csv_item[5])\n",
        "\n",
        "  except Exception as e:\n",
        "    print(e)\n",
        "\n",
        "  # Change to be delta time instead of abs and sort time\n",
        "  csv_parsed = sorted(csv_parsed, key=lambda x: x[0])\n",
        "  for i in range(len(csv_parsed) - 1):\n",
        "    csv_item_copy = csv_parsed[i].copy()\n",
        "    if(i != 0):\n",
        "      csv_item_copy[0] = csv_parsed[i][0] - csv_parsed[i - 1][0]\n",
        "\n",
        "    # Also concat to csv_parsed\n",
        "    for j in csv_item_copy:\n",
        "      csv_string += str(j)\n",
        "    csv_string += \"|\"\n",
        "    numNotesInCsv+=1\n",
        "    if(numNotesInCsv % 4000 == 0):\n",
        "      csv_string += \"\\n\"\n",
        "  csv_string += \"\\n\"\n",
        "  num_filesSoFar+=1\n",
        "  if(num_filesSoFar % 20000 == 0):\n",
        "    with open(\"convertedData\"+str(num_filesSoFar)+\".txt\", \"w\") as f:\n",
        "      f.writelines(csv_string)\n",
        "  if(num_filesSoFar % 50 == 0):\n",
        "    print(num_filesSoFar)\n",
        "\n",
        "#for i in range(0, len(csv_string), 1800):\n",
        "#  csv_string[i] = \"\\n\"\n",
        "\n",
        "with open(\"convertedData.txt\", \"w\") as f:\n",
        "    f.writelines(csv_string)\n",
        "\n",
        "with open(\"/content/drive/MyDrive/bignicedata.txt\", \"w\") as f:\n",
        "    f.writelines(csv_string)"
      ]
    },
    {
      "cell_type": "markdown",
      "source": [
        "# Copy the generated data to your google drive"
      ],
      "metadata": {
        "id": "OFK92poUnYHN"
      }
    },
    {
      "cell_type": "code",
      "execution_count": null,
      "metadata": {
        "id": "xDvwh8WGmrjh"
      },
      "outputs": [],
      "source": [
        "!cp /content/convertedData.txt /content/drive/MyDrive/"
      ]
    }
  ],
  "metadata": {
    "colab": {
      "provenance": []
    },
    "gpuClass": "standard",
    "kernelspec": {
      "display_name": "Python 3",
      "name": "python3"
    },
    "language_info": {
      "name": "python"
    }
  },
  "nbformat": 4,
  "nbformat_minor": 0
}