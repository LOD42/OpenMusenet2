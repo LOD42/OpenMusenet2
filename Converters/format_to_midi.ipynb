{
  "nbformat": 4,
  "nbformat_minor": 0,
  "metadata": {
    "colab": {
      "provenance": []
    },
    "kernelspec": {
      "name": "python3",
      "display_name": "Python 3"
    },
    "language_info": {
      "name": "python"
    },
    "gpuClass": "standard"
  },
  "cells": [
    {
      "cell_type": "markdown",
      "source": [
        "Import"
      ],
      "metadata": {
        "id": "aQIi8aKuVdjn"
      }
    },
    {
      "cell_type": "code",
      "source": [
        "!pip install py_midicsv"
      ],
      "metadata": {
        "id": "b7cUICfDnRTT"
      },
      "execution_count": null,
      "outputs": []
    },
    {
      "cell_type": "markdown",
      "source": [],
      "metadata": {
        "id": "ZREXGj66N4Xe"
      }
    },
    {
      "cell_type": "markdown",
      "source": [
        "# Format the data to be midi"
      ],
      "metadata": {
        "id": "_9U_pK7xN4bK"
      }
    },
    {
      "cell_type": "code",
      "source": [
        "midi_header = '''0, 0, Header, 1, 11, 480\n",
        "1, 0, Start_track\n",
        "1, 0, Title_t, \"\"\n",
        "1, 0, Time_signature, 4, 2, 24, 8\n",
        "1, 0, Tempo, 324324\n",
        "1, 102960, End_track\n",
        "2, 0, Start_track\n",
        "2, 0, Control_c, 0, 121, 0\n",
        "2, 0, Title_t, \"\"\n",
        "2, 0, Control_c, 0, 10, 64\n",
        "2, 0, Control_c, 0, 7, 100\n",
        "2, 0, Control_c, 0, 11, 127\n",
        "2, 0, Control_c, 0, 101, 0\n",
        "2, 0, Control_c, 0, 100, 2\n",
        "2, 0, Control_c, 0, 6, 64\n",
        "2, 0, Control_c, 0, 101, 0\n",
        "2, 0, Control_c, 0, 100, 1\n",
        "2, 0, Control_c, 0, 6, 64\n",
        "2, 0, Control_c, 0, 38, 0\n",
        "2, 0, Control_c, 0, 101, 0\n",
        "2, 0, Control_c, 0, 100, 0\n",
        "2, 0, Control_c, 0, 6, 12\n",
        "2, 0, Pitch_bend_c, 0, 8192\n",
        "2, 0, Control_c, 0, 1, 0\n",
        "2, 0, Program_c, 0, 57\n",
        "'''"
      ],
      "metadata": {
        "id": "f2UPbmI7XKHw"
      },
      "execution_count": null,
      "outputs": []
    },
    {
      "cell_type": "markdown",
      "source": [
        "Save to CSV"
      ],
      "metadata": {
        "id": "2lBWLrYeqHTD"
      }
    },
    {
      "cell_type": "code",
      "source": [
        "def generate_on_off_events(noteData):\n",
        "  track_num = \"2\"\n",
        "  #TODO:\n",
        "  dynamic = 127\n",
        "  note_on = track_num + \", \" + str(noteData[2]) + \", Note_on_c, 0, \" + str(noteData[0]) + \", \" + str(dynamic)\n",
        "  note_off = track_num + \", \" + str(noteData[2] + noteData[4]) + \", Note_off_c, 0, \" + str(noteData[0]) + \", \" + \"0\"\n",
        "  return [[noteData[2], note_on], [noteData[2] + noteData[4], note_off]]\n",
        "\n",
        "\n",
        "def test_if_num(num):\n",
        "  try:\n",
        "    tmp = int(num)\n",
        "  except:\n",
        "    return False\n",
        "\n",
        "  return True\n",
        "\n",
        "newCsv = midi_header\n",
        "\n",
        "file = open(\"test.txt\", \"r\").read()\n",
        "fileTokens = file.split(\"|\")\n",
        "allParsedVals = []\n",
        "\n",
        "timeMarker = 0\n",
        "for i in range(len(fileTokens)):\n",
        "  valuesArr = []\n",
        "  valueBuild = \"\"\n",
        "  for j in range(len(fileTokens[i])):\n",
        "    if(test_if_num(fileTokens[i][j])):\n",
        "      valueBuild += fileTokens[i][j]\n",
        "    else:\n",
        "      valuesArr.append(int(valueBuild))\n",
        "      valuesArr.append(fileTokens[i][j])\n",
        "      valueBuild = \"\"\n",
        "  if(valueBuild != \"\"):\n",
        "    valuesArr.append(int(valueBuild))\n",
        "    valueBuild = \"\"\n",
        "\n",
        "  oldTime = valuesArr[2]\n",
        "  valuesArr[2] += timeMarker\n",
        "  allParsedVals.append(valuesArr)\n",
        "  timeMarker += oldTime\n",
        "\n",
        "noteEventsArray = []\n",
        "for val in allParsedVals:\n",
        "  events = generate_on_off_events(val)\n",
        "  noteEventsArray.append(events[0])\n",
        "  noteEventsArray.append(events[1])\n",
        "noteEventsArray = sorted(noteEventsArray, key=lambda x: x[0])\n",
        "\n",
        "outString = midi_header\n",
        "for val in noteEventsArray:\n",
        "  outString += val[1] + \"\\n\"\n",
        "outString += '''2, ''' + str(noteEventsArray[len(noteEventsArray) - 1][0] + 1000) + ''', End_track\n",
        "0, 0, End_of_file'''\n",
        "\n",
        "with open('mididata.csv', 'w') as file:\n",
        "    file.write(outString)"
      ],
      "metadata": {
        "id": "-ZDlC2RdKB3z"
      },
      "execution_count": null,
      "outputs": []
    },
    {
      "cell_type": "markdown",
      "source": [
        "Save as midi"
      ],
      "metadata": {
        "id": "NoI_ndM1qJia"
      }
    },
    {
      "cell_type": "code",
      "source": [
        "import py_midicsv as pm\n",
        "\n",
        "csv_string = \"/content/mididata.csv\"\n",
        "\n",
        "# Parse the CSV output of the previous command back into a MIDI file\n",
        "midi_object = pm.csv_to_midi(csv_string)\n",
        "\n",
        "# Save the parsed MIDI file to disk\n",
        "with open(\"aiOut.mid\", \"wb\") as output_file:\n",
        "    midi_writer = pm.FileWriter(output_file)\n",
        "    midi_writer.write(midi_object)"
      ],
      "metadata": {
        "id": "CvnYl208N229"
      },
      "execution_count": null,
      "outputs": []
    },
    {
      "cell_type": "markdown",
      "source": [],
      "metadata": {
        "id": "XUC21gWON3R5"
      }
    }
  ]
}