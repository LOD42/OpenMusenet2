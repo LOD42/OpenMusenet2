{
  "nbformat": 4,
  "nbformat_minor": 0,
  "metadata": {
    "colab": {
      "provenance": []
    },
    "kernelspec": {
      "name": "python3",
      "display_name": "Python 3"
    },
    "language_info": {
      "name": "python"
    },
    "gpuClass": "standard"
  },
  "cells": [
    {
      "cell_type": "markdown",
      "source": [
        "**This program will parse your data of midi files into data readable by the ai**"
      ],
      "metadata": {
        "id": "dh6dxXUkVfr_"
      }
    },
    {
      "cell_type": "markdown",
      "source": [
        "Import"
      ],
      "metadata": {
        "id": "aQIi8aKuVdjn"
      }
    },
    {
      "cell_type": "code",
      "source": [
        "!pip install py_midicsv"
      ],
      "metadata": {
        "colab": {
          "base_uri": "https://localhost:8080/"
        },
        "id": "b7cUICfDnRTT",
        "outputId": "cf3f6220-b206-4a99-eee6-25bcccf72766"
      },
      "execution_count": 1,
      "outputs": [
        {
          "output_type": "stream",
          "name": "stdout",
          "text": [
            "Looking in indexes: https://pypi.org/simple, https://us-python.pkg.dev/colab-wheels/public/simple/\n",
            "Collecting py_midicsv\n",
            "  Downloading py_midicsv-4.0.0-py3-none-any.whl (16 kB)\n",
            "Collecting rich-click<2.0.0,>=1.6.1 (from py_midicsv)\n",
            "  Downloading rich_click-1.6.1-py3-none-any.whl (19 kB)\n",
            "Requirement already satisfied: click>=7 in /usr/local/lib/python3.10/dist-packages (from rich-click<2.0.0,>=1.6.1->py_midicsv) (8.1.3)\n",
            "Requirement already satisfied: rich>=10.7.0 in /usr/local/lib/python3.10/dist-packages (from rich-click<2.0.0,>=1.6.1->py_midicsv) (13.3.4)\n",
            "Requirement already satisfied: markdown-it-py<3.0.0,>=2.2.0 in /usr/local/lib/python3.10/dist-packages (from rich>=10.7.0->rich-click<2.0.0,>=1.6.1->py_midicsv) (2.2.0)\n",
            "Requirement already satisfied: pygments<3.0.0,>=2.13.0 in /usr/local/lib/python3.10/dist-packages (from rich>=10.7.0->rich-click<2.0.0,>=1.6.1->py_midicsv) (2.14.0)\n",
            "Requirement already satisfied: mdurl~=0.1 in /usr/local/lib/python3.10/dist-packages (from markdown-it-py<3.0.0,>=2.2.0->rich>=10.7.0->rich-click<2.0.0,>=1.6.1->py_midicsv) (0.1.2)\n",
            "Installing collected packages: rich-click, py_midicsv\n",
            "Successfully installed py_midicsv-4.0.0 rich-click-1.6.1\n"
          ]
        }
      ]
    },
    {
      "cell_type": "markdown",
      "source": [
        "**Upload your zip file of midi files (all in root of zip) and rename to music.zip also create a folder under the same name in the content folder**"
      ],
      "metadata": {
        "id": "5OZMYmT0VNh0"
      }
    },
    {
      "cell_type": "code",
      "source": [
        "!unzip /content/music.zip -d /content/music/"
      ],
      "metadata": {
        "colab": {
          "base_uri": "https://localhost:8080/"
        },
        "id": "wPa9rdFktIBz",
        "outputId": "0b2fef44-fe1f-4470-9bb3-3f5e2c09701c"
      },
      "execution_count": 8,
      "outputs": [
        {
          "output_type": "stream",
          "name": "stdout",
          "text": [
            "Archive:  /content/music.zip\n",
            "  inflating: /content/music/epic country.mid  \n"
          ]
        }
      ]
    },
    {
      "cell_type": "code",
      "source": [
        "#@title # **Convert the dataset and make sure to change midi dir if you changed it above** *Also* you may get errors but its probably ok\n",
        "import py_midicsv as pm\n",
        "import os\n",
        "\n",
        "\n",
        "midi_dir = \"/content/music/\" #@param {type:\"string\"}\n",
        "midi_files = [f for f in os.listdir(midi_dir) if f.endswith('.mid')]\n",
        "csv_string = []\n",
        "\n",
        "def get_note_event(start, note, instrument, length, velocity):\n",
        "  outValue = str(note)\n",
        "\n",
        "  if(instrument<=127):\n",
        "    outValue += \"%\"\n",
        "\n",
        "  outValue += str(start)\n",
        "\n",
        "  if(velocity > 108):\n",
        "    outValue += \"$\"\n",
        "  elif velocity > 74:\n",
        "    outValue += \"#\"\n",
        "  elif velocity > 40:\n",
        "    outValue += \"@\"\n",
        "  else:\n",
        "    outValue += \"!\"\n",
        "\n",
        "  outValue += str(length)\n",
        "\n",
        "  return outValue\n",
        "\n",
        "def parse_split_csv_item(item):\n",
        "  try:\n",
        "    item[2] = item[2].replace(' ', '')\n",
        "    item[0] = int(item[0])\n",
        "    item[1] = int(item[1])\n",
        "    item[3] = int(item[3])\n",
        "    item[4] = int(item[4])\n",
        "    item[5] = int(item[5])\n",
        "  except:\n",
        "    pass;\n",
        "  return item\n",
        "\n",
        "# Load the MIDI file and parse it into CSV format\n",
        "for midi_file in midi_files:\n",
        "  try:\n",
        "    lastNoteStart = 0\n",
        "    csv_unparsed = pm.midi_to_csv(midi_dir + midi_file)\n",
        "    csv_parsed = []\n",
        "    notesPlaying = []\n",
        "    for csv_item in csv_unparsed:\n",
        "      split_csv_item = csv_item.split(',')\n",
        "      split_csv_item = parse_split_csv_item(split_csv_item);\n",
        "      match(split_csv_item[2]):\n",
        "        case \"Note_on_c\":\n",
        "          notesPlaying.append(split_csv_item)\n",
        "        case \"Note_off_c\":\n",
        "          # Find note that turning off\n",
        "          for i in range(len(notesPlaying)):\n",
        "            if(notesPlaying[i][4] == split_csv_item[4]):\n",
        "              csv_string += get_note_event(notesPlaying[i][1] - lastNoteStart, split_csv_item[4], 0, split_csv_item[1] - notesPlaying[i][1], notesPlaying[i][5]) + '\\n'\n",
        "              lastNoteStart = notesPlaying[i][1]\n",
        "              notesPlaying.pop(i)\n",
        "  except Exception as e:\n",
        "    print(e)\n",
        "\n",
        "with open(\"convertedData.txt\", \"w\") as f:\n",
        "    f.writelines(csv_string)"
      ],
      "metadata": {
        "colab": {
          "base_uri": "https://localhost:8080/"
        },
        "id": "zZihkXXWxYoo",
        "outputId": "353cf58d-6de4-4443-acc9-b44083fe912c"
      },
      "execution_count": 71,
      "outputs": [
        {
          "output_type": "stream",
          "name": "stdout",
          "text": [
            "list index out of range\n"
          ]
        }
      ]
    },
    {
      "cell_type": "markdown",
      "source": [],
      "metadata": {
        "id": "ZREXGj66N4Xe"
      }
    },
    {
      "cell_type": "markdown",
      "source": [
        "#Ignore this"
      ],
      "metadata": {
        "id": "_9U_pK7xN4bK"
      }
    },
    {
      "cell_type": "code",
      "source": [
        "import py_midicsv as pm\n",
        "\n",
        "csv_string = \"/content/temp3.csv\"\n",
        "\n",
        "# Parse the CSV output of the previous command back into a MIDI file\n",
        "midi_object = pm.csv_to_midi(csv_string)\n",
        "\n",
        "# Save the parsed MIDI file to disk\n",
        "with open(\"aitest12.mid\", \"wb\") as output_file:\n",
        "    midi_writer = pm.FileWriter(output_file)\n",
        "    midi_writer.write(midi_object)"
      ],
      "metadata": {
        "id": "CvnYl208N229"
      },
      "execution_count": null,
      "outputs": []
    },
    {
      "cell_type": "markdown",
      "source": [],
      "metadata": {
        "id": "XUC21gWON3R5"
      }
    }
  ]
}