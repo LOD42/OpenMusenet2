{
  "nbformat": 4,
  "nbformat_minor": 0,
  "metadata": {
    "colab": {
      "provenance": []
    },
    "kernelspec": {
      "name": "python3",
      "display_name": "Python 3"
    },
    "language_info": {
      "name": "python"
    },
    "gpuClass": "standard"
  },
  "cells": [
    {
      "cell_type": "markdown",
      "source": [
        "**This program will parse your data of midi files into data readable by the ai**"
      ],
      "metadata": {
        "id": "dh6dxXUkVfr_"
      }
    },
    {
      "cell_type": "markdown",
      "source": [
        "Import"
      ],
      "metadata": {
        "id": "aQIi8aKuVdjn"
      }
    },
    {
      "cell_type": "code",
      "source": [
        "!pip install py_midicsv\n",
        "!pip install mido"
      ],
      "metadata": {
        "colab": {
          "base_uri": "https://localhost:8080/"
        },
        "id": "b7cUICfDnRTT",
        "outputId": "62144533-6dbb-4b72-ae25-0faf6c9a724d"
      },
      "execution_count": 1,
      "outputs": [
        {
          "output_type": "stream",
          "name": "stdout",
          "text": [
            "Looking in indexes: https://pypi.org/simple, https://us-python.pkg.dev/colab-wheels/public/simple/\n",
            "Collecting py_midicsv\n",
            "  Downloading py_midicsv-4.0.0-py3-none-any.whl (16 kB)\n",
            "Collecting rich-click<2.0.0,>=1.6.1 (from py_midicsv)\n",
            "  Downloading rich_click-1.6.1-py3-none-any.whl (19 kB)\n",
            "Requirement already satisfied: click>=7 in /usr/local/lib/python3.10/dist-packages (from rich-click<2.0.0,>=1.6.1->py_midicsv) (8.1.3)\n",
            "Requirement already satisfied: rich>=10.7.0 in /usr/local/lib/python3.10/dist-packages (from rich-click<2.0.0,>=1.6.1->py_midicsv) (13.4.2)\n",
            "Requirement already satisfied: markdown-it-py>=2.2.0 in /usr/local/lib/python3.10/dist-packages (from rich>=10.7.0->rich-click<2.0.0,>=1.6.1->py_midicsv) (3.0.0)\n",
            "Requirement already satisfied: pygments<3.0.0,>=2.13.0 in /usr/local/lib/python3.10/dist-packages (from rich>=10.7.0->rich-click<2.0.0,>=1.6.1->py_midicsv) (2.14.0)\n",
            "Requirement already satisfied: mdurl~=0.1 in /usr/local/lib/python3.10/dist-packages (from markdown-it-py>=2.2.0->rich>=10.7.0->rich-click<2.0.0,>=1.6.1->py_midicsv) (0.1.2)\n",
            "Installing collected packages: rich-click, py_midicsv\n",
            "Successfully installed py_midicsv-4.0.0 rich-click-1.6.1\n",
            "Looking in indexes: https://pypi.org/simple, https://us-python.pkg.dev/colab-wheels/public/simple/\n",
            "Collecting mido\n",
            "  Downloading mido-1.2.10-py2.py3-none-any.whl (51 kB)\n",
            "\u001b[2K     \u001b[90m━━━━━━━━━━━━━━━━━━━━━━━━━━━━━━━━━━━━━━━━\u001b[0m \u001b[32m51.1/51.1 kB\u001b[0m \u001b[31m2.5 MB/s\u001b[0m eta \u001b[36m0:00:00\u001b[0m\n",
            "\u001b[?25hInstalling collected packages: mido\n",
            "Successfully installed mido-1.2.10\n"
          ]
        }
      ]
    },
    {
      "cell_type": "code",
      "source": [
        "!mkdir /content/musicFixed/"
      ],
      "metadata": {
        "id": "amhTx7x7c14I"
      },
      "execution_count": 2,
      "outputs": []
    },
    {
      "cell_type": "markdown",
      "source": [
        "**(Upload midi now to content folder) Convert the midi into all one track**"
      ],
      "metadata": {
        "id": "B5wYxPOftBym"
      }
    },
    {
      "cell_type": "code",
      "source": [
        "import os\n",
        "import mido\n",
        "\n",
        "def merge_midi_tracks(input_file):\n",
        "    try:\n",
        "      mid = mido.MidiFile(\"/content/\" + input_file)\n",
        "\n",
        "      merged = mido.MidiFile(ticks_per_beat=mid.ticks_per_beat)\n",
        "\n",
        "      # Create a new track to merge the MIDI events\n",
        "      merged_track = mido.MidiTrack()\n",
        "      merged.tracks.append(mido.merge_tracks(mid.tracks))\n",
        "\n",
        "      # Save the merged MIDI file\n",
        "\n",
        "      merged.save(\"/content/musicFixed/\" + input_file)\n",
        "      print(input_file)\n",
        "    except Exception as e:\n",
        "      print(e)\n",
        "      pass\n",
        "\n",
        "for filename in os.listdir(\"/content/\"):\n",
        "    if filename.endswith('.mid'):\n",
        "      merge_midi_tracks(filename)"
      ],
      "metadata": {
        "colab": {
          "base_uri": "https://localhost:8080/"
        },
        "id": "VYX-tDJHs9aM",
        "outputId": "9fe1b201-2877-438e-cf45-82951687d241"
      },
      "execution_count": 4,
      "outputs": [
        {
          "output_type": "stream",
          "name": "stdout",
          "text": [
            "Liar (Ben weber horoitz.mid\n"
          ]
        }
      ]
    },
    {
      "cell_type": "code",
      "source": [
        "#@title # **Convert the dataset and make sure to change midi dir if you changed it above** *Also* you may get errors but its probably ok\n",
        "import py_midicsv as pm\n",
        "import os\n",
        "import re\n",
        "\n",
        "\n",
        "midi_dir = \"/content/musicFixed/\" #@param {type:\"string\"}\n",
        "midi_files = [f for f in os.listdir(midi_dir) if f.endswith('.mid')]\n",
        "csv_string = []\n",
        "\n",
        "def get_note_event(start, note, instrument, length, velocity):\n",
        "  outValue = str(note)\n",
        "\n",
        "  if(instrument<=127):\n",
        "    outValue += \"%\"\n",
        "\n",
        "  outValue += str(start)\n",
        "\n",
        "  if(velocity > 108):\n",
        "    outValue += \"$\"\n",
        "  elif velocity > 74:\n",
        "    outValue += \"#\"\n",
        "  elif velocity > 40:\n",
        "    outValue += \"@\"\n",
        "  else:\n",
        "    outValue += \"!\"\n",
        "\n",
        "  outValue += str(length)\n",
        "\n",
        "  return outValue\n",
        "\n",
        "def parse_split_csv_item(item):\n",
        "  try:\n",
        "    item[2] = item[2].replace(' ', '')\n",
        "    item[0] = int(item[0])\n",
        "    item[1] = int(item[1])\n",
        "    item[3] = int(item[3])\n",
        "    item[4] = int(item[4])\n",
        "    item[5] = int(item[5])\n",
        "  except:\n",
        "    pass;\n",
        "  return item\n",
        "\n",
        "# Load the MIDI file and parse it into CSV format\n",
        "for midi_file in midi_files:\n",
        "  try:\n",
        "    lastNoteStart = 0\n",
        "    csv_unparsed = pm.midi_to_csv(midi_dir + midi_file)\n",
        "    csv_parsed = []\n",
        "    notesPlaying = []\n",
        "    for csv_item in csv_unparsed:\n",
        "      split_csv_item = csv_item.split(',')\n",
        "      split_csv_item = parse_split_csv_item(split_csv_item);\n",
        "      match(split_csv_item[2]):\n",
        "        case \"Note_on_c\":\n",
        "          toAdd = True\n",
        "          for i in notesPlaying:\n",
        "            if(i[4] == split_csv_item[4]):\n",
        "              toAdd = False\n",
        "          if toAdd:\n",
        "            notesPlaying.append(split_csv_item)\n",
        "        case \"Note_off_c\":\n",
        "          # Find note that turning off\n",
        "          i = 0\n",
        "          while i < len(notesPlaying):\n",
        "            if(notesPlaying[i][4] == split_csv_item[4]):\n",
        "              csv_string += get_note_event(notesPlaying[i][1] - lastNoteStart, split_csv_item[4], 0, split_csv_item[1] - notesPlaying[i][1], notesPlaying[i][5]) + '|'\n",
        "              lastNoteStart = notesPlaying[i][1]\n",
        "              notesPlaying.pop(i)\n",
        "              i-=1\n",
        "            i+=1\n",
        "  except Exception as e:\n",
        "    print(e)\n",
        "\n",
        "for i in range(0, len(csv_string), 1800):\n",
        "  csv_string[i] = \"\\n\"\n",
        "\n",
        "with open(\"convertedData.txt\", \"w\") as f:\n",
        "    f.writelines(csv_string)"
      ],
      "metadata": {
        "id": "zZihkXXWxYoo"
      },
      "execution_count": 5,
      "outputs": []
    },
    {
      "cell_type": "code",
      "source": [],
      "metadata": {
        "id": "SURlFvd2GEaP"
      },
      "execution_count": null,
      "outputs": []
    }
  ]
}