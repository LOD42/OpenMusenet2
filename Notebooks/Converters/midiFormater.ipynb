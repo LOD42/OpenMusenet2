{
  "nbformat": 4,
  "nbformat_minor": 0,
  "metadata": {
    "colab": {
      "provenance": []
    },
    "kernelspec": {
      "name": "python3",
      "display_name": "Python 3"
    },
    "language_info": {
      "name": "python"
    },
    "gpuClass": "standard"
  },
  "cells": [
    {
      "cell_type": "markdown",
      "source": [
        "**This program will parse your data of midi files into data readable by the ai**"
      ],
      "metadata": {
        "id": "dh6dxXUkVfr_"
      }
    },
    {
      "cell_type": "markdown",
      "source": [
        "Import"
      ],
      "metadata": {
        "id": "aQIi8aKuVdjn"
      }
    },
    {
      "cell_type": "code",
      "source": [
        "!pip install py_midicsv\n",
        "!pip install mido"
      ],
      "metadata": {
        "colab": {
          "base_uri": "https://localhost:8080/"
        },
        "id": "b7cUICfDnRTT",
        "outputId": "cc3d6bb7-886f-430b-d84c-dd8637231f59"
      },
      "execution_count": 1,
      "outputs": [
        {
          "output_type": "stream",
          "name": "stdout",
          "text": [
            "Looking in indexes: https://pypi.org/simple, https://us-python.pkg.dev/colab-wheels/public/simple/\n",
            "Collecting py_midicsv\n",
            "  Downloading py_midicsv-4.0.0-py3-none-any.whl (16 kB)\n",
            "Collecting rich-click<2.0.0,>=1.6.1 (from py_midicsv)\n",
            "  Downloading rich_click-1.6.1-py3-none-any.whl (19 kB)\n",
            "Requirement already satisfied: click>=7 in /usr/local/lib/python3.10/dist-packages (from rich-click<2.0.0,>=1.6.1->py_midicsv) (8.1.3)\n",
            "Requirement already satisfied: rich>=10.7.0 in /usr/local/lib/python3.10/dist-packages (from rich-click<2.0.0,>=1.6.1->py_midicsv) (13.4.2)\n",
            "Requirement already satisfied: markdown-it-py>=2.2.0 in /usr/local/lib/python3.10/dist-packages (from rich>=10.7.0->rich-click<2.0.0,>=1.6.1->py_midicsv) (3.0.0)\n",
            "Requirement already satisfied: pygments<3.0.0,>=2.13.0 in /usr/local/lib/python3.10/dist-packages (from rich>=10.7.0->rich-click<2.0.0,>=1.6.1->py_midicsv) (2.14.0)\n",
            "Requirement already satisfied: mdurl~=0.1 in /usr/local/lib/python3.10/dist-packages (from markdown-it-py>=2.2.0->rich>=10.7.0->rich-click<2.0.0,>=1.6.1->py_midicsv) (0.1.2)\n",
            "Installing collected packages: rich-click, py_midicsv\n",
            "Successfully installed py_midicsv-4.0.0 rich-click-1.6.1\n",
            "Looking in indexes: https://pypi.org/simple, https://us-python.pkg.dev/colab-wheels/public/simple/\n",
            "Collecting mido\n",
            "  Downloading mido-1.2.10-py2.py3-none-any.whl (51 kB)\n",
            "\u001b[2K     \u001b[90m━━━━━━━━━━━━━━━━━━━━━━━━━━━━━━━━━━━━━━━━\u001b[0m \u001b[32m51.1/51.1 kB\u001b[0m \u001b[31m2.3 MB/s\u001b[0m eta \u001b[36m0:00:00\u001b[0m\n",
            "\u001b[?25hInstalling collected packages: mido\n",
            "Successfully installed mido-1.2.10\n"
          ]
        }
      ]
    },
    {
      "cell_type": "code",
      "source": [
        "!rm -rf /content/music/"
      ],
      "metadata": {
        "id": "GwWh05-S0Zks"
      },
      "execution_count": 2,
      "outputs": []
    },
    {
      "cell_type": "markdown",
      "source": [
        "**Upload your zip file of midi files (all in root of zip) and rename to music.zip also create a folder under the same name in the content folder**"
      ],
      "metadata": {
        "id": "5OZMYmT0VNh0"
      }
    },
    {
      "cell_type": "code",
      "source": [
        "!unzip /content/music.zip -d /content/music/"
      ],
      "metadata": {
        "colab": {
          "base_uri": "https://localhost:8080/"
        },
        "id": "wPa9rdFktIBz",
        "outputId": "5d4e0958-66fb-4566-e80a-e126b3905b94"
      },
      "execution_count": 5,
      "outputs": [
        {
          "output_type": "stream",
          "name": "stdout",
          "text": [
            "Archive:  /content/music.zip\n",
            "  inflating: /content/music/Civ rev v1.61.mid  \n"
          ]
        }
      ]
    },
    {
      "cell_type": "markdown",
      "source": [
        "**Convert the midis into all one track**"
      ],
      "metadata": {
        "id": "B5wYxPOftBym"
      }
    },
    {
      "cell_type": "code",
      "source": [
        "#@title # **Convert the dataset and make sure to change midi dir if you changed it above** *Also* you may get errors but its probably ok\n",
        "import py_midicsv as pm\n",
        "import os\n",
        "import re\n",
        "\n",
        "\n",
        "midi_dir = \"/content/music/\" #@param {type:\"string\"}\n",
        "midi_files = [f for f in os.listdir(midi_dir) if f.endswith('.mid')]\n",
        "csv_string = []\n",
        "\n",
        "def get_note_event(start, note, instrument, length, velocity):\n",
        "  out_instrument = \"%\"\n",
        "  match instrument:\n",
        "    case 0:\n",
        "      out_instrument = \"%\"\n",
        "    case 1:\n",
        "      out_instrument = \"^\"\n",
        "    case 2:\n",
        "      out_instrument = \"&\"\n",
        "    case 3:\n",
        "      out_instrument = \"*\"\n",
        "    case 4:\n",
        "      out_instrument = \"(\"\n",
        "    case _:\n",
        "      out_instrument = \")\"\n",
        "\n",
        "\n",
        "  dynamic = \"$\"\n",
        "  if(velocity > 108):\n",
        "    dynamic = \"$\"\n",
        "  elif velocity > 74:\n",
        "    dynamic = \"#\"\n",
        "  elif velocity > 40:\n",
        "    dynamic = \"@\"\n",
        "  else:\n",
        "    dynamic = \"!\"\n",
        "\n",
        "  return [start, dynamic, length, out_instrument, note]\n",
        "\n",
        "def parse_split_csv_item(item):\n",
        "  try:\n",
        "    item[2] = item[2].replace(' ', '')\n",
        "    item[0] = int(item[0])\n",
        "    item[1] = int(item[1])\n",
        "    item[3] = int(item[3])\n",
        "    item[4] = int(item[4])\n",
        "    item[5] = int(item[5])\n",
        "  except:\n",
        "    pass;\n",
        "  return item\n",
        "\n",
        "# Load the MIDI file and parse it into CSV format\n",
        "numNotesInCsv = 0\n",
        "for midi_file in midi_files:\n",
        "  csv_parsed = []\n",
        "  try:\n",
        "    lastNoteStart = 0\n",
        "    csv_unparsed = pm.midi_to_csv(midi_dir + midi_file)\n",
        "    notesPlaying = []\n",
        "    for csv_item in csv_unparsed:\n",
        "      split_csv_item = csv_item.split(',')\n",
        "      split_csv_item = parse_split_csv_item(split_csv_item);\n",
        "      match(split_csv_item[2]):\n",
        "        case \"Note_on_c\":\n",
        "          toAdd = True\n",
        "          for i in notesPlaying:\n",
        "            if(i[4] == split_csv_item[4]):\n",
        "              toAdd = False\n",
        "          if toAdd:\n",
        "            notesPlaying.append(split_csv_item)\n",
        "        case \"Note_off_c\":\n",
        "          # Find note that turning off\n",
        "          i = 0\n",
        "          while i < len(notesPlaying):\n",
        "            if(notesPlaying[i][4] == split_csv_item[4]):\n",
        "              temp = get_note_event(notesPlaying[i][1], split_csv_item[4], split_csv_item[0], split_csv_item[1] - notesPlaying[i][1], notesPlaying[i][5])\n",
        "              csv_parsed.append(temp)\n",
        "              #csv_parsed.append(get_note_event(notesPlaying[i][1] - lastNoteStart, split_csv_item[4], 0, split_csv_item[1] - notesPlaying[i][1], notesPlaying[i][5]) + '|')\n",
        "              #csv_string += get_note_event(notesPlaying[i][1] - lastNoteStart, split_csv_item[4], 0, split_csv_item[1] - notesPlaying[i][1], notesPlaying[i][5]) + '|'\n",
        "              lastNoteStart = notesPlaying[i][1]\n",
        "              notesPlaying.pop(i)\n",
        "              i-=1\n",
        "            i+=1\n",
        "  except Exception as e:\n",
        "    print(e)\n",
        "\n",
        "  # Change to be delta time instead of abs and sort time\n",
        "  csv_parsed = sorted(csv_parsed, key=lambda x: x[0])\n",
        "  for i in range(len(csv_parsed) - 1):\n",
        "    csv_item_copy = csv_parsed[i]\n",
        "    csv_item_copy[0] = csv_parsed[i + 1][0] - csv_parsed[i][0]\n",
        "\n",
        "\n",
        "    # Also concat to csv_parsed\n",
        "    for j in csv_item_copy:\n",
        "      csv_string += str(j)\n",
        "    csv_string += \"|\"\n",
        "    numNotesInCsv+=1\n",
        "    if(numNotesInCsv % 400 == 0):\n",
        "      csv_string += \"\\n\"\n",
        "\n",
        "#for i in range(0, len(csv_string), 1800):\n",
        "#  csv_string[i] = \"\\n\"\n",
        "\n",
        "with open(\"convertedData.txt\", \"w\") as f:\n",
        "    f.writelines(csv_string)"
      ],
      "metadata": {
        "id": "zZihkXXWxYoo"
      },
      "execution_count": 61,
      "outputs": []
    },
    {
      "cell_type": "code",
      "source": [],
      "metadata": {
        "id": "SURlFvd2GEaP"
      },
      "execution_count": null,
      "outputs": []
    }
  ]
}